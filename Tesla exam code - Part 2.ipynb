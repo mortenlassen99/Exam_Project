{
 "cells": [
  {
   "cell_type": "code",
   "execution_count": 1,
   "id": "5c5fad81",
   "metadata": {},
   "outputs": [
    {
     "name": "stdout",
     "output_type": "stream",
     "text": [
      "Note: you may need to restart the kernel to use updated packages.\n"
     ]
    }
   ],
   "source": [
    "pip install -q transformers"
   ]
  },
  {
   "cell_type": "code",
   "execution_count": 2,
   "id": "2eceb926",
   "metadata": {},
   "outputs": [],
   "source": [
    "import requests\n",
    "import matplotlib.pyplot as plt\n",
    "import pandas as pd\n",
    "import numpy as np\n",
    "from os import path\n",
    "import os, sys\n",
    "import time\n",
    "import json\n",
    "import datetime\n",
    "import csv\n",
    "from scipy.stats import pearsonr, spearmanr\n",
    "import yfinance as yf\n",
    "from transformers import pipeline"
   ]
  },
  {
   "cell_type": "code",
   "execution_count": 3,
   "id": "fa6d4492",
   "metadata": {},
   "outputs": [],
   "source": [
    "directory = \"/Users/mortenlassen/Desktop/CBS - noter/Kandidat/3. semester/Business Data Processing and Business Intelligence/Eksamen/Txt\"\n",
    "\n",
    "file_path_liste = []\n",
    "\n",
    "for filename in os.listdir(directory):\n",
    "    f = os.path.join(directory, filename)\n",
    "    # checking if it is a file\n",
    "    if os.path.isfile(f):\n",
    "        file_path_liste.append(f)"
   ]
  },
  {
   "cell_type": "code",
   "execution_count": 4,
   "id": "f41202a4",
   "metadata": {},
   "outputs": [],
   "source": [
    "all_data = []\n",
    "\n",
    "for i in range(len(file_path_liste)):\n",
    "    json_file_path = file_path_liste[i]\n",
    "    with open(json_file_path, 'r') as f:\n",
    "        data = json.load(f)\n",
    "        all_data.append(data)"
   ]
  },
  {
   "cell_type": "code",
   "execution_count": 5,
   "id": "fef4172e",
   "metadata": {},
   "outputs": [],
   "source": [
    "all_dataframes = []        \n",
    "for j in range(len(all_data)):\n",
    "    data_frame = pd.DataFrame.from_dict(all_data[j])\n",
    "    all_dataframes.append(data_frame)"
   ]
  },
  {
   "cell_type": "code",
   "execution_count": 6,
   "id": "be0e660a",
   "metadata": {},
   "outputs": [],
   "source": [
    "df = pd.DataFrame()\n",
    "for i in range(0,len(all_dataframes),1):\n",
    "    data = all_dataframes[i]\n",
    "    df = df.append(data)\n",
    "df = df.reset_index()\n",
    "df = df.drop('index', axis=1)\n",
    "# Reorder the columns in place\n",
    "df = df[['Date', 'Headline', 'Abstract']]"
   ]
  },
  {
   "cell_type": "code",
   "execution_count": 7,
   "id": "63b3d268",
   "metadata": {
    "scrolled": true
   },
   "outputs": [],
   "source": [
    "Headline_list = df[\"Headline\"].tolist() \n",
    "Abstract_list = df[\"Abstract\"].tolist()"
   ]
  },
  {
   "cell_type": "code",
   "execution_count": 8,
   "id": "e27ed341",
   "metadata": {},
   "outputs": [],
   "source": [
    "columns = ['Abstract']\n",
    "df_Abstract = pd.DataFrame(Abstract_list, columns=columns)\n",
    "df_Abstract.fillna('', inplace=True)\n",
    "Abstract_list = df_Abstract['Abstract'].tolist()"
   ]
  },
  {
   "cell_type": "code",
   "execution_count": 9,
   "id": "baa8a217",
   "metadata": {},
   "outputs": [
    {
     "name": "stderr",
     "output_type": "stream",
     "text": [
      "No model was supplied, defaulted to distilbert-base-uncased-finetuned-sst-2-english and revision af0f99b (https://huggingface.co/distilbert-base-uncased-finetuned-sst-2-english).\n",
      "Using a pipeline without specifying a model name and revision in production is not recommended.\n",
      "All PyTorch model weights were used when initializing TFDistilBertForSequenceClassification.\n",
      "\n",
      "All the weights of TFDistilBertForSequenceClassification were initialized from the PyTorch model.\n",
      "If your task is similar to the task the model of the checkpoint was trained on, you can already use TFDistilBertForSequenceClassification for predictions without further training.\n"
     ]
    }
   ],
   "source": [
    "sentiment_pipeline = pipeline(\"sentiment-analysis\")\n",
    "sentiment_headline_list = []\n",
    "for i in range(len(Headline_list)):\n",
    "    sentiment_headline = sentiment_pipeline(Headline_list[i])\n",
    "    sentiment_headline_list.append(sentiment_headline)"
   ]
  },
  {
   "cell_type": "code",
   "execution_count": 10,
   "id": "aaeaa7d2",
   "metadata": {},
   "outputs": [],
   "source": [
    "df_sentiment_headline = pd.DataFrame(columns=['label', 'score'])\n",
    "for sublist in sentiment_headline_list:\n",
    "    df_sentiment_headline = df_sentiment_headline.append(sublist[0], ignore_index=True)"
   ]
  },
  {
   "cell_type": "code",
   "execution_count": 11,
   "id": "b8394b7b",
   "metadata": {},
   "outputs": [],
   "source": [
    "# Original range\n",
    "min_value = 0.5\n",
    "max_value = 1.0\n",
    "\n",
    "# Function to transform scores\n",
    "\n",
    "def transform_score(score, label):\n",
    "    if label == 'NEGATIVE':\n",
    "        return -score  # Invert the score for negative labels\n",
    "    else:\n",
    "        return score\n",
    "\n",
    "# Apply the transformation\n",
    "df_sentiment_headline['Transformed Score'] = df_sentiment_headline.apply(lambda row: transform_score((row['score']- min_value)/(max_value - min_value), row['label']), axis=1)"
   ]
  },
  {
   "cell_type": "code",
   "execution_count": 12,
   "id": "5e28f243",
   "metadata": {},
   "outputs": [],
   "source": [
    "# Define a function to categorize values\n",
    "def categorize_value(value):\n",
    "    if value <= -0.5:\n",
    "        return 'Negative'\n",
    "    elif -0.5 < value <= 0.5:\n",
    "        return 'Neutral'\n",
    "    else:\n",
    "        return 'Positive'\n",
    "    \n",
    "df_sentiment_headline['Final Label'] = df_sentiment_headline['Transformed Score'].apply(categorize_value)"
   ]
  },
  {
   "cell_type": "code",
   "execution_count": 13,
   "id": "f7e538f6",
   "metadata": {},
   "outputs": [],
   "source": [
    "df_sentiment_headline.rename(columns={'label': 'Headline label', 'score': 'Headline score','Transformed Score': 'Headline Transformed Score', 'Final Label': 'Headline Final Label'}, inplace=True)"
   ]
  },
  {
   "cell_type": "code",
   "execution_count": 14,
   "id": "14d594f8",
   "metadata": {},
   "outputs": [],
   "source": [
    "sentiment_abstract_list = []\n",
    "for i in range(len(Abstract_list)):\n",
    "    sentiment_abstract = sentiment_pipeline(Abstract_list[i])\n",
    "    sentiment_abstract_list.append(sentiment_abstract)"
   ]
  },
  {
   "cell_type": "code",
   "execution_count": 15,
   "id": "91f68bca",
   "metadata": {},
   "outputs": [],
   "source": [
    "df_sentiment_abstract = pd.DataFrame(columns=['label', 'score'])\n",
    "for sublist in sentiment_abstract_list:\n",
    "    df_sentiment_abstract = df_sentiment_abstract.append(sublist[0], ignore_index=True)"
   ]
  },
  {
   "cell_type": "code",
   "execution_count": 16,
   "id": "7e6ef4f0",
   "metadata": {},
   "outputs": [],
   "source": [
    "# Original range\n",
    "min_value = 0.5\n",
    "max_value = 1.0\n",
    "\n",
    "# Function to transform scores\n",
    "def transform_score(score, label):\n",
    "    if label == 'NEGATIVE':\n",
    "        return -score  # Invert the score for negative labels\n",
    "    else:\n",
    "        return score\n",
    "\n",
    "# Apply the transformation\n",
    "df_sentiment_abstract['Transformed Score'] = df_sentiment_abstract.apply(lambda row: transform_score((row['score']- min_value)/(max_value - min_value), row['label']), axis=1)"
   ]
  },
  {
   "cell_type": "code",
   "execution_count": 17,
   "id": "70c538aa",
   "metadata": {},
   "outputs": [],
   "source": [
    "# Define a function to categorize values\n",
    "def categorize_value(value):\n",
    "    if value <= -0.5:\n",
    "        return 'Negative'\n",
    "    elif -0.5 < value <= 0.5:\n",
    "        return 'Neutral'\n",
    "    else:\n",
    "        return 'Positive'\n",
    "    \n",
    "df_sentiment_abstract['Final Label'] = df_sentiment_abstract['Transformed Score'].apply(categorize_value)"
   ]
  },
  {
   "cell_type": "code",
   "execution_count": 18,
   "id": "05e13454",
   "metadata": {},
   "outputs": [],
   "source": [
    "values_to_replace = [0.7481210231781006]\n",
    "df_sentiment_abstract.replace(values_to_replace, np.nan, inplace=True)\n",
    "df_sentiment_abstract.fillna('NaN', inplace=True)\n",
    "# Change values in 'Value' column based on 'Category' column\n",
    "df_sentiment_abstract.loc[df_sentiment_abstract['score'] == 'NaN', 'Transformed Score'] = 'NaN'\n",
    "df_sentiment_abstract.loc[df_sentiment_abstract['score'] == 'NaN', 'Final Label'] = 'NaN'"
   ]
  },
  {
   "cell_type": "code",
   "execution_count": 19,
   "id": "d98968bd",
   "metadata": {},
   "outputs": [],
   "source": [
    "df_sentiment_abstract.rename(columns={'label': 'Abstract label', 'score': 'Abstract score','Transformed Score': 'Abstract Transformed Score', 'Final Label': 'Abstract Final Label'}, inplace=True)"
   ]
  },
  {
   "cell_type": "code",
   "execution_count": 20,
   "id": "b064f370",
   "metadata": {},
   "outputs": [],
   "source": [
    "Final_df = df.reset_index(drop=True)"
   ]
  },
  {
   "cell_type": "code",
   "execution_count": 21,
   "id": "4dc72752",
   "metadata": {},
   "outputs": [],
   "source": [
    "merged_df = pd.concat([Final_df,df_sentiment_headline],axis = 1)\n",
    "final_merged_df = pd.concat([merged_df,df_sentiment_abstract],axis=1)\n",
    "final_merged_df.columns = ['Date','Headline','Abstract','Headline label','Headline score','Headline Transformed Score', 'Headline Final Label','Abstract label','Abstract score','Abstract Transformed Score', 'Abstract Final Label']"
   ]
  },
  {
   "cell_type": "code",
   "execution_count": 22,
   "id": "c56c0cd6",
   "metadata": {},
   "outputs": [
    {
     "data": {
      "text/html": [
       "<div>\n",
       "<style scoped>\n",
       "    .dataframe tbody tr th:only-of-type {\n",
       "        vertical-align: middle;\n",
       "    }\n",
       "\n",
       "    .dataframe tbody tr th {\n",
       "        vertical-align: top;\n",
       "    }\n",
       "\n",
       "    .dataframe thead th {\n",
       "        text-align: right;\n",
       "    }\n",
       "</style>\n",
       "<table border=\"1\" class=\"dataframe\">\n",
       "  <thead>\n",
       "    <tr style=\"text-align: right;\">\n",
       "      <th></th>\n",
       "      <th>Date</th>\n",
       "      <th>Headline</th>\n",
       "      <th>Abstract</th>\n",
       "      <th>Headline label</th>\n",
       "      <th>Headline score</th>\n",
       "      <th>Headline Transformed Score</th>\n",
       "      <th>Headline Final Label</th>\n",
       "      <th>Abstract label</th>\n",
       "      <th>Abstract score</th>\n",
       "      <th>Abstract Transformed Score</th>\n",
       "      <th>Abstract Final Label</th>\n",
       "    </tr>\n",
       "  </thead>\n",
       "  <tbody>\n",
       "    <tr>\n",
       "      <th>0</th>\n",
       "      <td>2019-12-30</td>\n",
       "      <td>Tesla delivers first China-made cars from $5bn...</td>\n",
       "      <td>NaN</td>\n",
       "      <td>POSITIVE</td>\n",
       "      <td>0.998886</td>\n",
       "      <td>0.997772</td>\n",
       "      <td>Positive</td>\n",
       "      <td>POSITIVE</td>\n",
       "      <td>NaN</td>\n",
       "      <td>NaN</td>\n",
       "      <td>NaN</td>\n",
       "    </tr>\n",
       "    <tr>\n",
       "      <th>1</th>\n",
       "      <td>2019-11-22</td>\n",
       "      <td>Tesla to unveil long-hyped 'cyberpunk' electri...</td>\n",
       "      <td>NaN</td>\n",
       "      <td>NEGATIVE</td>\n",
       "      <td>0.998076</td>\n",
       "      <td>-0.996152</td>\n",
       "      <td>Negative</td>\n",
       "      <td>POSITIVE</td>\n",
       "      <td>NaN</td>\n",
       "      <td>NaN</td>\n",
       "      <td>NaN</td>\n",
       "    </tr>\n",
       "    <tr>\n",
       "      <th>2</th>\n",
       "      <td>2019-11-22</td>\n",
       "      <td>Cybertruck: Tesla unveils new pickup truck but...</td>\n",
       "      <td>NaN</td>\n",
       "      <td>NEGATIVE</td>\n",
       "      <td>0.991762</td>\n",
       "      <td>-0.983523</td>\n",
       "      <td>Negative</td>\n",
       "      <td>POSITIVE</td>\n",
       "      <td>NaN</td>\n",
       "      <td>NaN</td>\n",
       "      <td>NaN</td>\n",
       "    </tr>\n",
       "    <tr>\n",
       "      <th>3</th>\n",
       "      <td>2019-11-13</td>\n",
       "      <td>Tesla cites Brexit as Germany chosen over UK f...</td>\n",
       "      <td>NaN</td>\n",
       "      <td>NEGATIVE</td>\n",
       "      <td>0.978572</td>\n",
       "      <td>-0.957144</td>\n",
       "      <td>Negative</td>\n",
       "      <td>POSITIVE</td>\n",
       "      <td>NaN</td>\n",
       "      <td>NaN</td>\n",
       "      <td>NaN</td>\n",
       "    </tr>\n",
       "    <tr>\n",
       "      <th>4</th>\n",
       "      <td>2019-09-10</td>\n",
       "      <td>Video appears to show Tesla driver asleep at t...</td>\n",
       "      <td>NaN</td>\n",
       "      <td>NEGATIVE</td>\n",
       "      <td>0.999419</td>\n",
       "      <td>-0.998839</td>\n",
       "      <td>Negative</td>\n",
       "      <td>POSITIVE</td>\n",
       "      <td>NaN</td>\n",
       "      <td>NaN</td>\n",
       "      <td>NaN</td>\n",
       "    </tr>\n",
       "    <tr>\n",
       "      <th>...</th>\n",
       "      <td>...</td>\n",
       "      <td>...</td>\n",
       "      <td>...</td>\n",
       "      <td>...</td>\n",
       "      <td>...</td>\n",
       "      <td>...</td>\n",
       "      <td>...</td>\n",
       "      <td>...</td>\n",
       "      <td>...</td>\n",
       "      <td>...</td>\n",
       "      <td>...</td>\n",
       "    </tr>\n",
       "    <tr>\n",
       "      <th>6600</th>\n",
       "      <td>2023-07-28</td>\n",
       "      <td>Birmingham says opposition doesn’t ‘fear’ earl...</td>\n",
       "      <td>NaN</td>\n",
       "      <td>POSITIVE</td>\n",
       "      <td>0.804263</td>\n",
       "      <td>0.608526</td>\n",
       "      <td>Positive</td>\n",
       "      <td>POSITIVE</td>\n",
       "      <td>NaN</td>\n",
       "      <td>NaN</td>\n",
       "      <td>NaN</td>\n",
       "    </tr>\n",
       "    <tr>\n",
       "      <th>6601</th>\n",
       "      <td>2023-02-09</td>\n",
       "      <td>Deliveroo cutting 9% of staff; Bank of England...</td>\n",
       "      <td>NaN</td>\n",
       "      <td>NEGATIVE</td>\n",
       "      <td>0.994698</td>\n",
       "      <td>-0.989396</td>\n",
       "      <td>Negative</td>\n",
       "      <td>POSITIVE</td>\n",
       "      <td>NaN</td>\n",
       "      <td>NaN</td>\n",
       "      <td>NaN</td>\n",
       "    </tr>\n",
       "    <tr>\n",
       "      <th>6602</th>\n",
       "      <td>2023-08-23</td>\n",
       "      <td>Two charged over building fire – as it happened</td>\n",
       "      <td>NaN</td>\n",
       "      <td>POSITIVE</td>\n",
       "      <td>0.946528</td>\n",
       "      <td>0.893057</td>\n",
       "      <td>Positive</td>\n",
       "      <td>POSITIVE</td>\n",
       "      <td>NaN</td>\n",
       "      <td>NaN</td>\n",
       "      <td>NaN</td>\n",
       "    </tr>\n",
       "    <tr>\n",
       "      <th>6603</th>\n",
       "      <td>2023-01-13</td>\n",
       "      <td>New federal court rules over access to documen...</td>\n",
       "      <td>NaN</td>\n",
       "      <td>NEGATIVE</td>\n",
       "      <td>0.998906</td>\n",
       "      <td>-0.997812</td>\n",
       "      <td>Negative</td>\n",
       "      <td>POSITIVE</td>\n",
       "      <td>NaN</td>\n",
       "      <td>NaN</td>\n",
       "      <td>NaN</td>\n",
       "    </tr>\n",
       "    <tr>\n",
       "      <th>6604</th>\n",
       "      <td>2023-03-27</td>\n",
       "      <td>Dutton stays silent in question time – as it h...</td>\n",
       "      <td>NaN</td>\n",
       "      <td>NEGATIVE</td>\n",
       "      <td>0.947794</td>\n",
       "      <td>-0.895588</td>\n",
       "      <td>Negative</td>\n",
       "      <td>POSITIVE</td>\n",
       "      <td>NaN</td>\n",
       "      <td>NaN</td>\n",
       "      <td>NaN</td>\n",
       "    </tr>\n",
       "  </tbody>\n",
       "</table>\n",
       "<p>6605 rows × 11 columns</p>\n",
       "</div>"
      ],
      "text/plain": [
       "            Date                                           Headline Abstract  \\\n",
       "0     2019-12-30  Tesla delivers first China-made cars from $5bn...      NaN   \n",
       "1     2019-11-22  Tesla to unveil long-hyped 'cyberpunk' electri...      NaN   \n",
       "2     2019-11-22  Cybertruck: Tesla unveils new pickup truck but...      NaN   \n",
       "3     2019-11-13  Tesla cites Brexit as Germany chosen over UK f...      NaN   \n",
       "4     2019-09-10  Video appears to show Tesla driver asleep at t...      NaN   \n",
       "...          ...                                                ...      ...   \n",
       "6600  2023-07-28  Birmingham says opposition doesn’t ‘fear’ earl...      NaN   \n",
       "6601  2023-02-09  Deliveroo cutting 9% of staff; Bank of England...      NaN   \n",
       "6602  2023-08-23    Two charged over building fire – as it happened      NaN   \n",
       "6603  2023-01-13  New federal court rules over access to documen...      NaN   \n",
       "6604  2023-03-27  Dutton stays silent in question time – as it h...      NaN   \n",
       "\n",
       "     Headline label  Headline score  Headline Transformed Score  \\\n",
       "0          POSITIVE        0.998886                    0.997772   \n",
       "1          NEGATIVE        0.998076                   -0.996152   \n",
       "2          NEGATIVE        0.991762                   -0.983523   \n",
       "3          NEGATIVE        0.978572                   -0.957144   \n",
       "4          NEGATIVE        0.999419                   -0.998839   \n",
       "...             ...             ...                         ...   \n",
       "6600       POSITIVE        0.804263                    0.608526   \n",
       "6601       NEGATIVE        0.994698                   -0.989396   \n",
       "6602       POSITIVE        0.946528                    0.893057   \n",
       "6603       NEGATIVE        0.998906                   -0.997812   \n",
       "6604       NEGATIVE        0.947794                   -0.895588   \n",
       "\n",
       "     Headline Final Label Abstract label Abstract score  \\\n",
       "0                Positive       POSITIVE            NaN   \n",
       "1                Negative       POSITIVE            NaN   \n",
       "2                Negative       POSITIVE            NaN   \n",
       "3                Negative       POSITIVE            NaN   \n",
       "4                Negative       POSITIVE            NaN   \n",
       "...                   ...            ...            ...   \n",
       "6600             Positive       POSITIVE            NaN   \n",
       "6601             Negative       POSITIVE            NaN   \n",
       "6602             Positive       POSITIVE            NaN   \n",
       "6603             Negative       POSITIVE            NaN   \n",
       "6604             Negative       POSITIVE            NaN   \n",
       "\n",
       "     Abstract Transformed Score Abstract Final Label  \n",
       "0                           NaN                  NaN  \n",
       "1                           NaN                  NaN  \n",
       "2                           NaN                  NaN  \n",
       "3                           NaN                  NaN  \n",
       "4                           NaN                  NaN  \n",
       "...                         ...                  ...  \n",
       "6600                        NaN                  NaN  \n",
       "6601                        NaN                  NaN  \n",
       "6602                        NaN                  NaN  \n",
       "6603                        NaN                  NaN  \n",
       "6604                        NaN                  NaN  \n",
       "\n",
       "[6605 rows x 11 columns]"
      ]
     },
     "execution_count": 22,
     "metadata": {},
     "output_type": "execute_result"
    }
   ],
   "source": [
    "final_merged_df"
   ]
  },
  {
   "cell_type": "code",
   "execution_count": 23,
   "id": "55cb945b",
   "metadata": {},
   "outputs": [],
   "source": [
    "column_to_remove = ['Headline label','Headline score','Abstract label','Abstract score']\n",
    "final_merged_df= final_merged_df.drop(column_to_remove,axis=1)"
   ]
  },
  {
   "cell_type": "code",
   "execution_count": 24,
   "id": "e8e90034",
   "metadata": {},
   "outputs": [],
   "source": [
    "# Convert the 'Abstract Transformed Score' to numeric, errors='coerce' will replace non-numeric values with NaN\n",
    "final_merged_df['Abstract Transformed Score'] = pd.to_numeric(final_merged_df['Abstract Transformed Score'], errors='coerce')"
   ]
  },
  {
   "cell_type": "code",
   "execution_count": 25,
   "id": "4a6e138d",
   "metadata": {},
   "outputs": [],
   "source": [
    "average_by_category_headline = final_merged_df.groupby('Date')['Headline Transformed Score'].mean()\n",
    "average_by_category_abstract = final_merged_df.groupby('Date')['Abstract Transformed Score'].mean()\n",
    "Headline_score_average = pd.DataFrame(average_by_category_headline)\n",
    "Abstract_score_average = pd.DataFrame(average_by_category_abstract)"
   ]
  },
  {
   "cell_type": "markdown",
   "id": "5d7fc5e3",
   "metadata": {},
   "source": [
    "## Getting data from Yahoo Finance"
   ]
  },
  {
   "cell_type": "code",
   "execution_count": 26,
   "id": "13ef692a",
   "metadata": {},
   "outputs": [
    {
     "name": "stdout",
     "output_type": "stream",
     "text": [
      "[*********************100%***********************]  1 of 1 completed\n"
     ]
    }
   ],
   "source": [
    "# Ticker symbol for Tesla Inc.\n",
    "ticker_symbol = 'TSLA'\n",
    "\n",
    "# Set the start and end dates\n",
    "start_date = '2012-01-01'\n",
    "end_date = '2023-11-28'\n",
    "\n",
    "# Download historical stock data\n",
    "data = yf.download(ticker_symbol, start=start_date, end=end_date, freq='B')\n"
   ]
  },
  {
   "cell_type": "code",
   "execution_count": 27,
   "id": "1d442d9b",
   "metadata": {},
   "outputs": [],
   "source": [
    "Tesla_df=data.drop(['Open','High','Low','Adj Close'],axis=1)"
   ]
  },
  {
   "cell_type": "code",
   "execution_count": 28,
   "id": "f06cb2a8",
   "metadata": {},
   "outputs": [],
   "source": [
    "Tesla_df.index = Tesla_df.index.date"
   ]
  },
  {
   "cell_type": "code",
   "execution_count": 29,
   "id": "825fd97d",
   "metadata": {},
   "outputs": [],
   "source": [
    "Tesla_df = Tesla_df.rename_axis('Date')"
   ]
  },
  {
   "cell_type": "code",
   "execution_count": 30,
   "id": "35b51e75",
   "metadata": {},
   "outputs": [],
   "source": [
    "Tesla_df_reset = Tesla_df.reset_index()\n",
    "Tesla_df_reset['Date'] = pd.to_datetime(Tesla_df_reset['Date'])\n",
    "Headline_score_average_reset = Headline_score_average.reset_index()\n",
    "Headline_score_average_reset['Date'] = pd.to_datetime(Headline_score_average_reset['Date'])"
   ]
  },
  {
   "cell_type": "code",
   "execution_count": 31,
   "id": "a6e4ed31",
   "metadata": {
    "scrolled": true
   },
   "outputs": [],
   "source": [
    "merged_df_all_closing_prices_headline = pd.merge(Tesla_df_reset, Headline_score_average_reset, on='Date', how='outer')\n",
    "merged_df_only_headline_score = pd.merge(Tesla_df_reset, Headline_score_average_reset, on='Date', how='right')"
   ]
  },
  {
   "cell_type": "code",
   "execution_count": 32,
   "id": "8cbf716e",
   "metadata": {},
   "outputs": [],
   "source": [
    "columns_to_fill_na = ['Headline Transformed Score']\n",
    "merged_df_all_closing_prices_headline[columns_to_fill_na] = merged_df_all_closing_prices_headline[columns_to_fill_na].fillna(0)\n",
    "merged_df_only_headline_score.fillna(method='ffill', inplace=True)"
   ]
  },
  {
   "cell_type": "code",
   "execution_count": 33,
   "id": "db578892",
   "metadata": {},
   "outputs": [],
   "source": [
    "merged_df_all_closing_prices_headline.fillna(method='ffill', inplace=True)"
   ]
  },
  {
   "cell_type": "markdown",
   "id": "e0d09b9d",
   "metadata": {},
   "source": [
    "## Correlation Analysis - headline"
   ]
  },
  {
   "cell_type": "code",
   "execution_count": 34,
   "id": "b60847b3",
   "metadata": {},
   "outputs": [],
   "source": [
    "df_scores_data_headline = merged_df_only_headline_score\n",
    "df_closing_data_headline = merged_df_all_closing_prices_headline"
   ]
  },
  {
   "cell_type": "code",
   "execution_count": 36,
   "id": "3ca21e21",
   "metadata": {},
   "outputs": [],
   "source": [
    "Change_in_scores_headline_closing_data = df_scores_data_headline['Close'] - df_scores_data_headline['Close'].shift(1)\n",
    "df_scores_data_headline['Change'] = Change_in_scores_headline_closing_data\n",
    "df_scores_data_headline = df_scores_data_headline.fillna(0)"
   ]
  },
  {
   "cell_type": "code",
   "execution_count": 37,
   "id": "37275aa7",
   "metadata": {},
   "outputs": [],
   "source": [
    "# Pearson correlation\n",
    "pearson_corr_price_headline, _ = pearsonr(df_scores_data_headline['Change'], df_scores_data_headline['Headline Transformed Score'])"
   ]
  },
  {
   "cell_type": "code",
   "execution_count": 38,
   "id": "3de3621c",
   "metadata": {},
   "outputs": [
    {
     "name": "stdout",
     "output_type": "stream",
     "text": [
      "Pearson Correlation: 0.013078529872870325\n"
     ]
    }
   ],
   "source": [
    "print(f\"Pearson Correlation: {pearson_corr_price_headline}\")"
   ]
  },
  {
   "cell_type": "code",
   "execution_count": 40,
   "id": "3a76771c",
   "metadata": {},
   "outputs": [],
   "source": [
    "df_monthly_articles = final_merged_df\n",
    "\n",
    "# Convert the 'Date' column to a pandas datetime object\n",
    "df_monthly_articles['Date'] = pd.to_datetime(df_monthly_articles['Date'])\n",
    "\n",
    "# Create a PeriodIndex with monthly frequency\n",
    "df_monthly_articles['Month'] = df_monthly_articles['Date'].dt.to_period('m')\n",
    "\n",
    "# Group by the 'month' and count the number of values\n",
    "monthly_counts_headline = df_monthly_articles['Headline'].groupby(df_monthly_articles['Month']).size().reset_index(name='Count')"
   ]
  },
  {
   "cell_type": "code",
   "execution_count": 41,
   "id": "c7831f8d",
   "metadata": {},
   "outputs": [],
   "source": [
    "df_monthly_volume = Tesla_df_reset\n",
    "\n",
    "# Convert the 'Date' column to a pandas datetime object\n",
    "df_monthly_volume['Date'] = pd.to_datetime(df_monthly_volume['Date'])\n",
    "\n",
    "# Create a PeriodIndex with monthly frequency\n",
    "df_monthly_volume['Month'] = df_monthly_volume['Date'].dt.to_period('m')\n",
    "\n",
    "# Group by the 'month' and count the number of values\n",
    "monthly_counts_volume = df_monthly_volume['Volume'].groupby(df_monthly_volume['Month']).sum().reset_index(name='Sum')"
   ]
  },
  {
   "cell_type": "code",
   "execution_count": 42,
   "id": "35471420",
   "metadata": {},
   "outputs": [],
   "source": [
    "# Pearson correlation\n",
    "pearson_corr_Volume_headline, _ = pearsonr(monthly_counts_volume['Sum'], monthly_counts_headline['Count'])"
   ]
  },
  {
   "cell_type": "code",
   "execution_count": 43,
   "id": "5c9cd2a2",
   "metadata": {},
   "outputs": [
    {
     "name": "stdout",
     "output_type": "stream",
     "text": [
      "Pearson Correlation: 0.27658081258042533\n"
     ]
    }
   ],
   "source": [
    "print(f\"Pearson Correlation: {pearson_corr_Volume_headline}\")"
   ]
  },
  {
   "cell_type": "markdown",
   "id": "764d64a7",
   "metadata": {},
   "source": [
    "## Correlation Analysis - Abstract"
   ]
  },
  {
   "cell_type": "code",
   "execution_count": 44,
   "id": "860fc42e",
   "metadata": {},
   "outputs": [],
   "source": [
    "Tesla_df_reset = Tesla_df.reset_index()\n",
    "Tesla_df_reset['Date'] = pd.to_datetime(Tesla_df_reset['Date'])\n",
    "Abstract_score_average_reset = Abstract_score_average.reset_index()\n",
    "Abstract_score_average_reset['Date'] = pd.to_datetime(Abstract_score_average_reset['Date'])"
   ]
  },
  {
   "cell_type": "code",
   "execution_count": 45,
   "id": "b0b0a6dc",
   "metadata": {},
   "outputs": [],
   "source": [
    "merged_df_all_closing_prices_abstract = pd.merge(Tesla_df_reset, Abstract_score_average_reset, on='Date', how='outer')\n",
    "merged_df_only_abstract_score = pd.merge(Tesla_df_reset, Abstract_score_average_reset, on='Date', how='right')"
   ]
  },
  {
   "cell_type": "code",
   "execution_count": 46,
   "id": "9c2b0117",
   "metadata": {},
   "outputs": [],
   "source": [
    "columns_to_fill_na_abstract = ['Abstract Transformed Score']\n",
    "merged_df_all_closing_prices_abstract[columns_to_fill_na_abstract] = merged_df_all_closing_prices_abstract[columns_to_fill_na_abstract].fillna(0)\n",
    "merged_df_only_abstract_score.fillna(method='ffill', inplace=True)"
   ]
  },
  {
   "cell_type": "code",
   "execution_count": 47,
   "id": "61297eb0",
   "metadata": {},
   "outputs": [],
   "source": [
    "merged_df_all_closing_prices_abstract.fillna(method='ffill', inplace=True)"
   ]
  },
  {
   "cell_type": "code",
   "execution_count": 48,
   "id": "32bd3373",
   "metadata": {},
   "outputs": [],
   "source": [
    "df_scores_data_abstract = merged_df_only_abstract_score\n",
    "df_closing_data_abstract = merged_df_all_closing_prices_abstract"
   ]
  },
  {
   "cell_type": "code",
   "execution_count": 49,
   "id": "dae5c274",
   "metadata": {},
   "outputs": [],
   "source": [
    "Change_in_closing_price_score_data_abstract = df_scores_data_abstract['Close'] - df_scores_data_abstract['Close'].shift(1)\n",
    "df_scores_data_abstract['Change'] = Change_in_closing_price_score_data_abstract\n",
    "df_scores_data_abstract = df_scores_data_abstract.fillna(0)"
   ]
  },
  {
   "cell_type": "code",
   "execution_count": 50,
   "id": "d20ac6c1",
   "metadata": {},
   "outputs": [],
   "source": [
    "# Pearson correlation\n",
    "pearson_corr_price_abstract, _ = pearsonr(df_scores_data_abstract['Change'], df_scores_data_abstract['Abstract Transformed Score'])"
   ]
  },
  {
   "cell_type": "code",
   "execution_count": 51,
   "id": "525b3acf",
   "metadata": {},
   "outputs": [
    {
     "name": "stdout",
     "output_type": "stream",
     "text": [
      "Pearson Correlation: 0.010047570072812064\n"
     ]
    }
   ],
   "source": [
    "print(f\"Pearson Correlation: {pearson_corr_price_abstract}\")"
   ]
  },
  {
   "cell_type": "code",
   "execution_count": 52,
   "id": "d0a82fc8",
   "metadata": {},
   "outputs": [],
   "source": [
    "df_monthly_abstract = final_merged_df\n",
    "\n",
    "# Convert the 'Date' column to a pandas datetime object\n",
    "df_monthly_abstract['Date'] = pd.to_datetime(df_monthly_abstract['Date'])\n",
    "\n",
    "# Create a PeriodIndex with monthly frequency\n",
    "df_monthly_abstract['Month'] = df_monthly_abstract['Date'].dt.to_period('m')\n",
    "\n",
    "# Count the number of observations where the text is longer than 0 characters on a quarterly basis\n",
    "monthly_counts_abstract = (df_monthly_abstract[df_monthly_abstract['Abstract'].str.len() > 0].groupby('Month').size().reset_index(name='Count'))"
   ]
  },
  {
   "cell_type": "code",
   "execution_count": 53,
   "id": "699b13db",
   "metadata": {},
   "outputs": [],
   "source": [
    "df_monthly_volume = Tesla_df_reset\n",
    "\n",
    "# Convert the 'Date' column to a pandas datetime object\n",
    "df_monthly_volume['Date'] = pd.to_datetime(df_monthly_volume['Date'])\n",
    "\n",
    "# Create a PeriodIndex with monthly frequency\n",
    "df_monthly_volume['Month'] = df_monthly_volume['Date'].dt.to_period('m')\n",
    "\n",
    "# Group by the 'Month' and count the number of values\n",
    "monthly_counts_volume = df_monthly_volume['Volume'].groupby(df_monthly_volume['Month']).sum().reset_index(name='Sum')\n"
   ]
  },
  {
   "cell_type": "code",
   "execution_count": 54,
   "id": "ef28a0d9",
   "metadata": {},
   "outputs": [],
   "source": [
    "# Pearson correlation\n",
    "pearson_corr_Volume_abstract, _ = pearsonr(monthly_counts_volume['Sum'], monthly_counts_abstract['Count'])"
   ]
  },
  {
   "cell_type": "code",
   "execution_count": 55,
   "id": "dcfd9d65",
   "metadata": {},
   "outputs": [
    {
     "name": "stdout",
     "output_type": "stream",
     "text": [
      "Pearson Correlation: 0.32172928705292647\n"
     ]
    }
   ],
   "source": [
    "print(f\"Pearson Correlation: {pearson_corr_Volume_abstract}\")"
   ]
  }
 ],
 "metadata": {
  "kernelspec": {
   "display_name": "Python 3",
   "language": "python",
   "name": "python3"
  },
  "language_info": {
   "codemirror_mode": {
    "name": "ipython",
    "version": 3
   },
   "file_extension": ".py",
   "mimetype": "text/x-python",
   "name": "python",
   "nbconvert_exporter": "python",
   "pygments_lexer": "ipython3",
   "version": "3.8.8"
  }
 },
 "nbformat": 4,
 "nbformat_minor": 5
}
